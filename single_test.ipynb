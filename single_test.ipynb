{
 "metadata": {
  "language_info": {
   "codemirror_mode": {
    "name": "ipython",
    "version": 3
   },
   "file_extension": ".py",
   "mimetype": "text/x-python",
   "name": "python",
   "nbconvert_exporter": "python",
   "pygments_lexer": "ipython3",
   "version": "3.8.3-final"
  },
  "orig_nbformat": 2,
  "kernelspec": {
   "name": "python3",
   "display_name": "Python 3",
   "language": "python"
  }
 },
 "nbformat": 4,
 "nbformat_minor": 2,
 "cells": [
  {
   "cell_type": "code",
   "execution_count": 6,
   "metadata": {},
   "outputs": [],
   "source": [
    "import pandas as pd \n",
    "import numpy as np\n",
    "from utils import *\n",
    "import time\n",
    "from scipy.stats import pearsonr, spearmanr\n",
    "\n",
    "# import tensorflow as tf\n",
    "# from keras.backend.tensorflow_backend import set_session\n",
    "# config = tf.ConfigProto()\n",
    "# config.gpu_options.allow_growth = True\n",
    "# set_session(tf.Session(config=config))"
   ]
  },
  {
   "cell_type": "code",
   "execution_count": 2,
   "metadata": {},
   "outputs": [],
   "source": [
    "df = pd.read_csv(\"./data/CONTEST_DATA_IN_SAMPLE_1.csv\",header=None)\n",
    "df2 = pd.read_csv(\"./data/CONTEST_DATA_IN_SAMPLE_2.csv\",header=None)\n",
    "df = pd.concat([df,df2])\n",
    "df.columns = ['time','stkcd','open','high','low','close','volume']"
   ]
  },
  {
   "cell_type": "code",
   "execution_count": 3,
   "metadata": {},
   "outputs": [],
   "source": [
    "close_df = pd.DataFrame()\n",
    "high_df = pd.DataFrame()\n",
    "low_df = pd.DataFrame()\n",
    "volume_df = pd.DataFrame()\n",
    "for sub_df in df.groupby('stkcd'):\n",
    "    close_df[sub_df[0]] = sub_df[1].reset_index().close\n",
    "    high_df[sub_df[0]] = sub_df[1].reset_index().high\n",
    "    low_df[sub_df[0]] = sub_df[1].reset_index().low\n",
    "    volume_df[sub_df[0]] = sub_df[1].reset_index().volume\n",
    "highs = high_df.values\n",
    "lows = low_df.values\n",
    "closes = close_df.values\n",
    "volumes = volume_df.values"
   ]
  },
  {
   "cell_type": "code",
   "execution_count": 4,
   "metadata": {},
   "outputs": [],
   "source": [
    "horizon = 1\n",
    "rts = close_df.pct_change(horizon).shift(-horizon-1).values # returns"
   ]
  },
  {
   "cell_type": "code",
   "execution_count": 11,
   "metadata": {},
   "outputs": [],
   "source": [
    "a = np.empty((0,351))"
   ]
  },
  {
   "cell_type": "code",
   "execution_count": 37,
   "metadata": {},
   "outputs": [
    {
     "output_type": "stream",
     "name": "stdout",
     "text": [
      "0.0\n"
     ]
    }
   ],
   "source": [
    "start = time.time()\n",
    "# a = np.vstack([a,mfi])\n",
    "mfis.append(mfi)\n",
    "end = time.time()\n",
    "print((end-start)*10000000)\n",
    "# a.shape"
   ]
  },
  {
   "cell_type": "code",
   "execution_count": 36,
   "metadata": {},
   "outputs": [
    {
     "output_type": "execute_result",
     "data": {
      "text/plain": [
       "913"
      ]
     },
     "metadata": {},
     "execution_count": 36
    }
   ],
   "source": [
    "len(mfis)"
   ]
  },
  {
   "cell_type": "code",
   "execution_count": 38,
   "metadata": {},
   "outputs": [
    {
     "output_type": "execute_result",
     "data": {
      "text/plain": [
       "(1900, 351)"
      ]
     },
     "metadata": {},
     "execution_count": 38
    }
   ],
   "source": [
    "closes.shape"
   ]
  },
  {
   "cell_type": "code",
   "execution_count": 5,
   "metadata": {},
   "outputs": [
    {
     "output_type": "stream",
     "name": "stdout",
     "text": [
      "100\n",
      "200\n",
      "300\n",
      "400\n",
      "500\n",
      "600\n",
      "700\n",
      "800\n",
      "900\n",
      "1000\n",
      "1100\n",
      "1200\n",
      "1300\n",
      "1400\n",
      "1500\n",
      "1600\n",
      "1700\n",
      "1800\n",
      "1900\n"
     ]
    }
   ],
   "source": [
    "avgs = np.empty((0,closes.shape[1]))\n",
    "moms = np.empty((0,closes.shape[1]))\n",
    "vols = np.empty((0,closes.shape[1]))\n",
    "max52s = np.empty((0,closes.shape[1]))\n",
    "min52s = np.empty((0,closes.shape[1]))\n",
    "ccis = np.empty((0,closes.shape[1]))\n",
    "Ks = np.empty((0,closes.shape[1]))\n",
    "Ds = np.empty((0,closes.shape[1]))\n",
    "Js = np.empty((0,closes.shape[1]))\n",
    "rsis = np.empty((0,closes.shape[1]))\n",
    "trixs = np.empty((0,closes.shape[1]))\n",
    "willrs = np.empty((0,closes.shape[1]))\n",
    "macds = np.empty((0,closes.shape[1]))\n",
    "natrs = np.empty((0,closes.shape[1]))\n",
    "mfis = np.empty((0,closes.shape[1]))\n",
    "start = time.time()\n",
    "for i in range(1,len(closes)+1):\n",
    "    c = closes[:i]\n",
    "    h = highs[:i]\n",
    "    l = lows[:i]\n",
    "    v = volumes[:i]\n",
    "    avg=get_avg(c,3)\n",
    "    mom=get_mom(c,5)\n",
    "    vol=get_vol(c,5)\n",
    "    max52=get_52weekhigh(c)\n",
    "    min52=get_52weeklow(c)\n",
    "    cci = get_cci(h,l,c)\n",
    "    K,D,J = get_kdj(h,l,c)\n",
    "    rsi = get_rsi(c)\n",
    "    trix = get_trix(c)\n",
    "    willr = get_willr(h,l,c)\n",
    "    macd = get_macd(c)\n",
    "    natr = get_natr(h,l,c)\n",
    "    mfi = get_mfi(c,h,l,v)\n",
    "\n",
    "    avgs=np.vstack([avgs,avg])\n",
    "    moms=np.vstack([moms,mom])\n",
    "    vols=np.vstack([vols,vol])\n",
    "    max52s=np.vstack([max52s,max52])\n",
    "    min52s=np.vstack([min52s,min52])\n",
    "    ccis=np.vstack([ccis,cci])\n",
    "    Ks=np.vstack([Ks,K])\n",
    "    Ds=np.vstack([Ds,D])\n",
    "    Js=np.vstack([Js,J])\n",
    "    rsis=np.vstack([rsis,rsi])\n",
    "    trixs=np.vstack([trixs,trix])\n",
    "    willrs=np.vstack([willrs,willr])\n",
    "    macds=np.vstack([macds,macd])\n",
    "    natrs=np.vstack([natrs,natr])\n",
    "    mfis=np.vstack([mfis,mfi])\n",
    "    if i%100 == 0:\n",
    "        print(i)\n",
    "endtime = time.time()\n",
    "# print((start-endtime)*1000 / 1900)"
   ]
  },
  {
   "cell_type": "code",
   "execution_count": 6,
   "metadata": {},
   "outputs": [
    {
     "output_type": "stream",
     "name": "stdout",
     "text": [
      "0.08795271082928306\n"
     ]
    }
   ],
   "source": [
    "print((endtime-start) / 1900)"
   ]
  },
  {
   "cell_type": "code",
   "execution_count": 11,
   "metadata": {},
   "outputs": [
    {
     "output_type": "stream",
     "name": "stdout",
     "text": [
      "0.07307400414818212\n"
     ]
    }
   ],
   "source": [
    "print((endtimpppe-start) / 1900)"
   ]
  },
  {
   "cell_type": "code",
   "execution_count": 7,
   "metadata": {},
   "outputs": [],
   "source": [
    "a = mfis[100]"
   ]
  },
  {
   "cell_type": "code",
   "execution_count": 8,
   "metadata": {},
   "outputs": [
    {
     "output_type": "execute_result",
     "data": {
      "text/plain": [
       "array([ 55.41526749,  45.71773221,  49.34515863,  47.36161277,\n",
       "        36.20800443,  50.        ,  31.7863523 ,   8.29485256,\n",
       "        53.33108323,   0.        ,   0.        ,  66.52716707,\n",
       "        39.90859733,  37.11221227,  58.39559139,  41.6616076 ,\n",
       "        43.32799543,  50.        ,  42.88418442,  69.00380064,\n",
       "        45.54867618,  50.        ,  58.56872208,  38.11282802,\n",
       "        38.50037052,  45.47396365,  72.11152229,  43.00067923,\n",
       "         0.        ,  35.82378933,  51.34103461,  60.25325272,\n",
       "        25.39501652,  33.05332006,  70.83915176,  31.47608285,\n",
       "        44.17861492,  25.52368892,  27.22711043,  48.07473138,\n",
       "        50.51314832,  24.40802566,  28.98407897,  54.05801348,\n",
       "        32.10026675,  49.23289918,  27.52283471,  32.44139533,\n",
       "        55.76097196,  43.13633731,  51.0342188 ,  82.55847363,\n",
       "        50.        ,  63.71198947,  14.51709473,  42.14559191,\n",
       "        86.22485015,   0.        ,  66.87037793,  47.75606361,\n",
       "        16.40930298,  99.07097615,  40.70508455,  27.78272161,\n",
       "        18.26904826,  60.5212719 ,   5.39946381,  76.15377754,\n",
       "        73.76023658,   1.90667869,  27.36070958,  56.73267319,\n",
       "        50.        ,  44.58187909,   1.0835953 ,  32.34318389,\n",
       "        53.1266028 ,  50.        ,  41.70530585,  39.21641111,\n",
       "        16.02864224,  13.34000758,  21.79327045,  72.36078544,\n",
       "         0.        ,  18.15450033,   0.        ,  60.1010727 ,\n",
       "        59.19156436,  12.37102434,  31.83188727,  19.18371869,\n",
       "        53.05559132,  33.70106089,  12.483687  ,  58.58557362,\n",
       "        17.13777118,  50.73588275,  20.38208117,  33.93817557,\n",
       "        42.35464656,  49.23261713,  24.17089431,  31.54927111,\n",
       "        39.08725168,  41.65198864,  82.08521027,  57.03177259,\n",
       "        23.86366395,  27.7977597 ,   7.13758116,  40.65961461,\n",
       "        27.36008545,  36.23330718,  61.96878752,  31.84365568,\n",
       "        14.28655817,  55.60769329,  44.98905213,  34.74427824,\n",
       "        88.60596916,  41.92910306,  19.74776468,  50.07291534,\n",
       "        50.        ,  39.4930049 ,  61.08566201,  44.28214813,\n",
       "        17.52040619,  32.7343991 ,  37.08930559,  70.83839625,\n",
       "        40.43955977,  49.98389918,   0.        ,  19.43391896,\n",
       "        42.44082843,  14.96764532,  50.40779769,  38.63400846,\n",
       "         7.28578555,  42.24554581,  38.61192526,  51.87742705,\n",
       "        30.58386813,  54.77145013,   8.38316455,  46.81022431,\n",
       "        80.19853481,  49.19656585, 100.        ,   8.59619564,\n",
       "        73.45692847,  30.17020267,   1.39080491,  37.62369451,\n",
       "        69.43352088,  50.        ,   1.22241604,  49.83163593,\n",
       "        21.12743507,   0.        ,  50.        ,  13.79381391,\n",
       "        50.        ,  97.83817941,  26.48161554,   0.        ,\n",
       "        80.39848524,  46.61537271,  57.14495159,  70.72650576,\n",
       "       100.        ,  35.05114116,  76.01505695,  33.75210332,\n",
       "         1.24065525,  43.24155274,  22.51656576,  23.79792277,\n",
       "        81.91688712,  56.03328739,  43.99137801,  23.66739419,\n",
       "        24.14542227,   5.62402416,  44.41462385,   6.5192529 ,\n",
       "        26.2544718 ,  56.91143769,  59.21733014,  50.        ,\n",
       "        30.29867074,  50.        ,  47.98873184,  22.40898265,\n",
       "        32.28688153,  38.34277079,  26.08370157,   0.        ,\n",
       "        29.62553077,  26.67730861,  74.72288972,  54.98707432,\n",
       "        24.41751479,  15.78102864,  46.15147784,  51.98562881,\n",
       "        21.22175295,  46.13637074,  50.        ,  23.32136871,\n",
       "        99.90072248,   0.        ,  70.44025157,  56.29956601,\n",
       "        10.23867938,  43.74140326,  48.78779304,  31.24972187,\n",
       "        48.16641787,  29.81376926,  30.36445451,  17.71182334,\n",
       "        24.43920499,   0.        ,  50.01847032,  36.85815496,\n",
       "        36.37300859,  50.        ,  26.65486023,   0.        ,\n",
       "        27.26492462,  37.92860333,  34.24376321,  34.71103233,\n",
       "        45.99809595,  65.68008403,  13.17591762,  26.33280418,\n",
       "         8.68348495,  50.        ,  22.57750841,  32.53463875,\n",
       "        36.07188703,  29.70194414,   2.05076251,  75.39370691,\n",
       "        50.        ,  22.60189854,  23.21009929,   0.        ,\n",
       "        16.33792137,  30.20723338,  23.95833526,  29.28227585,\n",
       "        37.82407055,  66.58419957,  50.        ,  53.86055998,\n",
       "        51.97552582,  28.80549244,  50.        ,  38.37301298,\n",
       "        31.67085696,  74.44347225,  50.        ,  23.034468  ,\n",
       "        43.89685905,  65.89326227,  28.1617058 ,  38.83049044,\n",
       "        50.        ,  28.09606576,  17.88337261, 100.        ,\n",
       "        38.5346717 ,  36.39544201,  92.5487662 ,   0.        ,\n",
       "        25.93270467,  58.15739859,  40.26565415,  50.        ,\n",
       "        72.57332983,  47.95472138,  50.        ,  41.70693661,\n",
       "        50.        ,  22.90734179,  45.58647958,  75.0461118 ,\n",
       "         8.66828277,  21.16385088,  87.83089545,  17.29339191,\n",
       "        15.01548188, 100.        ,  39.42866511,   4.65317831,\n",
       "        16.17055043,  45.84139109,  51.39153275,  90.98003073,\n",
       "         5.66885232,  51.31412582,   0.        ,  39.14722766,\n",
       "        87.78311859,  36.71730477,  28.36304177,  14.43518436,\n",
       "        37.69648789,   6.33546605,  67.79304138,  44.50463093,\n",
       "        11.68861085,  16.76153926,   9.03572864,  58.6665713 ,\n",
       "        24.2418429 ,  34.29476424,  57.87135654,   9.73534337,\n",
       "        64.65223376,  26.09536678,  25.33709284,  41.10915116,\n",
       "        31.4757966 ,  16.74714831,  22.37098057,  12.76441733,\n",
       "        52.95598841,  41.59881061,  53.27433034,  22.38258677,\n",
       "        56.41184711,  43.88778842,  67.52582707,  11.97137852,\n",
       "        50.        ,  95.61534417,   8.0261716 ,  19.74426733,\n",
       "        78.23041572,   5.82316938, 100.        ,  80.0988384 ,\n",
       "        14.85458962,  18.15878413, 100.        ])"
      ]
     },
     "metadata": {},
     "execution_count": 8
    }
   ],
   "source": [
    "a"
   ]
  },
  {
   "cell_type": "code",
   "execution_count": null,
   "metadata": {},
   "outputs": [],
   "source": [
    "# given factors and returns, output test results.\n",
    "profits = []\n",
    "for i,x in enumerate(zip(factors,returns)):\n",
    "    daily_factor,daily_return = x[0],x[1]\n",
    "    daily_factor = pd.Series(daily_factor)\n",
    "    head = daily_factor.nlargest(10).index.tolist()\n",
    "    tail = daily_factor.nsmallest(10).index.tolist()\n",
    "    profit = daily_return[head].mean() - daily_return[tail].mean()\n",
    "    in_profits.append(profit)\n",
    "pd.Series(np.asarray(profits)+1).cumprod().plot()\n",
    "plt.show()\n",
    "\n",
    "\n",
    "out_profits = []\n",
    "for i,x in enumerate(zip(factors,returns)):\n",
    "    daily_factor,daily_return = x[0],x[1]\n",
    "    head = daily_factor.nlargest(10).index.tolist()\n",
    "    tail = daily_factor.nsmallest(10).index.tolist()\n",
    "    profit = daily_return[head].mean() - daily_return[tail].mean()\n",
    "    out_profits.append(profit)\n",
    "pd.Series(np.asarray(profits)+1).cumprod().plot()\n",
    "plt.show()"
   ]
  }
 ]
}