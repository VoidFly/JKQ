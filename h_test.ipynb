{
 "metadata": {
  "language_info": {
   "codemirror_mode": {
    "name": "ipython",
    "version": 3
   },
   "file_extension": ".py",
   "mimetype": "text/x-python",
   "name": "python",
   "nbconvert_exporter": "python",
   "pygments_lexer": "ipython3",
   "version": "3.7.5-final"
  },
  "orig_nbformat": 2,
  "kernelspec": {
   "name": "python3",
   "display_name": "Python 3",
   "language": "python"
  }
 },
 "nbformat": 4,
 "nbformat_minor": 2,
 "cells": [
  {
   "cell_type": "code",
   "execution_count": 1,
   "metadata": {},
   "outputs": [],
   "source": [
    "import logging\n",
    "import grpc\n",
    "import pandas as pd\n",
    "import numpy as np\n",
    "import time\n",
    "import sys\n",
    "sys.path.append('proto')\n",
    "from proto import common_pb2,common_pb2_grpc\n",
    "from proto import contest_pb2,contest_pb2_grpc,question_pb2,question_pb2_grpc\n",
    "import talib\n",
    "\n"
   ]
  },
  {
   "cell_type": "code",
   "execution_count": 2,
   "metadata": {},
   "outputs": [],
   "source": [
    "df = pd.read_csv(\"./data/CONTEST_DATA_IN_SAMPLE_1.csv\",header=None)\n",
    "df.columns = ['time','stkcd','open','high','low','close','volume']"
   ]
  },
  {
   "cell_type": "code",
   "execution_count": 14,
   "metadata": {},
   "outputs": [
    {
     "output_type": "stream",
     "name": "stdout",
     "text": [
      "0.21841716766357422\nWall time: 218 ms\n"
     ]
    }
   ],
   "source": [
    "%%time\n",
    "start = time.time()\n",
    "df.groupby('stkcd')['open'].rolling(10).max()\n",
    "end = time.time()\n",
    "print(end-start)"
   ]
  },
  {
   "cell_type": "code",
   "execution_count": 4,
   "metadata": {},
   "outputs": [],
   "source": [
    "def get_factors(data):\n",
    "    '''\n",
    "    @params:\n",
    "    data: 2D-array, rows as daily numbers, columns as open,high,low,close,volume respectively\n",
    "\n",
    "    @returns:\n",
    "    factors: 1D-array\n",
    "    '''\n",
    "    o = data[:,0]\n",
    "    h = data[:,1]\n",
    "    l = data[:,2]\n",
    "    c = data[:,3]\n",
    "    v = data[:,4]\n",
    "    mom = talib.MOM(c,timeperiod=10)\n",
    "    vol = talib.STDDEV(c,timeperiod=10)\n",
    "    max52 = talib.MAX(h,timeperiod=252)\n",
    "    min52 = talib.MIN(l,timeperiod=252)\n",
    "\n",
    "    # 价量相关性、下行波动占比，ij是什么？\n",
    "    # \n",
    "    # clr =  # close_volume relation\n",
    "    # dvr =  # downstream volatility ratio\n",
    "\n",
    "    # Commodity Channel Index\n",
    "    cci = talib.CCI(h,l,c,timeperiod=14)\n",
    "\n",
    "    # KDJ (Stochastic)\n",
    "    K, D = talib.STOCH(h,l,c,fastk_period=5, slowk_period=3, slowk_matype=0, slowd_period=3, slowd_matype=0)\n",
    "    J = 3 * D - 2 * K\n",
    "\n",
    "    # Relative Strength Index\n",
    "    rsi = talib.RSI(c,timeperiod=14)\n",
    "\n",
    "    # TRIX - 1-day Rate-Of-Change (ROC) of a Triple Smooth EMA\n",
    "    trix = talib.TRIX(c, timeperiod=30)\n",
    "\n",
    "    # Williams' %R\n",
    "    willr = talib.WILLR(h, l, c, timeperiod=14)\n",
    "\n",
    "    # Moving Average Convergence/Divergence\n",
    "    macd, macdsignal, macdhist = talib.MACD(c, fastperiod=12, slowperiod=26, signalperiod=9)\n",
    "\n",
    "    # Normalized Average True Range\n",
    "    atr = talib.NATR(h,l,c,timeperiod=14)\n",
    "\n",
    "    return np.concatenate([data,np.asarray([mom, vol, max52, min52, cci, K, D, J, rsi, trix, willr, macd, macdsignal, macdhist, atr]).transpose()],axis=1)\n"
   ]
  },
  {
   "cell_type": "code",
   "execution_count": 10,
   "metadata": {},
   "outputs": [
    {
     "output_type": "stream",
     "name": "stdout",
     "text": [
      "Wall time: 0 ns\n"
     ]
    }
   ],
   "source": [
    "%time\n",
    "# from utils import get_factors\n",
    "b = get_factors(df[['open','high','low','close','volume']].values)"
   ]
  },
  {
   "cell_type": "code",
   "execution_count": 13,
   "metadata": {},
   "outputs": [
    {
     "output_type": "stream",
     "name": "stdout",
     "text": [
      "Wall time: 0 ns\n",
      "0.31618571281433105\n"
     ]
    }
   ],
   "source": [
    "%time\n",
    "start = time.time()\n",
    "df2 = df.groupby('stkcd').apply(lambda x: get_factors(x[['open','high','low','close','volume']].values))\n",
    "end = time.time()\n",
    "print(end-start)"
   ]
  },
  {
   "cell_type": "code",
   "execution_count": null,
   "metadata": {},
   "outputs": [],
   "source": [
    "df.groupby('stkcd')['']"
   ]
  },
  {
   "cell_type": "code",
   "execution_count": 16,
   "metadata": {},
   "outputs": [
    {
     "output_type": "execute_result",
     "data": {
      "text/plain": [
       "array([[19.96632   , 19.96632   , 19.06278   , ...,         nan,\n",
       "                nan,         nan],\n",
       "       [19.86138   , 20.59662   , 19.06278   , ...,         nan,\n",
       "                nan,         nan],\n",
       "       [20.9748    , 21.64734   , 20.82762   , ...,         nan,\n",
       "                nan,         nan],\n",
       "       ...,\n",
       "       [17.30982   , 17.30982   , 16.83462   , ..., -0.19497894,\n",
       "        -0.11294295,  2.42823031],\n",
       "       [17.23788   , 17.76786   , 16.48152   , ..., -0.23186479,\n",
       "        -0.14754336,  2.86057332],\n",
       "       [16.46502   , 16.46502   , 15.76674   , ..., -0.28311416,\n",
       "        -0.20499749,  3.10048582]])"
      ]
     },
     "metadata": {},
     "execution_count": 16
    }
   ],
   "source": []
  },
  {
   "cell_type": "code",
   "execution_count": 28,
   "metadata": {},
   "outputs": [
    {
     "output_type": "error",
     "ename": "TypeError",
     "evalue": "Argument 'real' has incorrect type (expected numpy.ndarray, got SeriesGroupBy)",
     "traceback": [
      "\u001b[1;31m---------------------------------------------------------------------------\u001b[0m",
      "\u001b[1;31mStopIteration\u001b[0m                             Traceback (most recent call last)",
      "\u001b[1;32mD:\\Anaconda3\\envs\\inno\\lib\\site-packages\\talib\\__init__.py\u001b[0m in \u001b[0;36mwrapper\u001b[1;34m(*args, **kwargs)\u001b[0m\n\u001b[0;32m     19\u001b[0m                 index = next(arg.index\n\u001b[1;32m---> 20\u001b[1;33m                              \u001b[1;32mfor\u001b[0m \u001b[0marg\u001b[0m \u001b[1;32min\u001b[0m \u001b[0mchain\u001b[0m\u001b[1;33m(\u001b[0m\u001b[0margs\u001b[0m\u001b[1;33m,\u001b[0m \u001b[0mkwargs\u001b[0m\u001b[1;33m.\u001b[0m\u001b[0mvalues\u001b[0m\u001b[1;33m(\u001b[0m\u001b[1;33m)\u001b[0m\u001b[1;33m)\u001b[0m\u001b[1;33m\u001b[0m\u001b[1;33m\u001b[0m\u001b[0m\n\u001b[0m\u001b[0;32m     21\u001b[0m                              if isinstance(arg, _pd_Series))\n",
      "\u001b[1;31mStopIteration\u001b[0m: ",
      "\nDuring handling of the above exception, another exception occurred:\n",
      "\u001b[1;31mTypeError\u001b[0m                                 Traceback (most recent call last)",
      "\u001b[1;32m<timed eval>\u001b[0m in \u001b[0;36m<module>\u001b[1;34m\u001b[0m\n",
      "\u001b[1;32mD:\\Anaconda3\\envs\\inno\\lib\\site-packages\\talib\\__init__.py\u001b[0m in \u001b[0;36mwrapper\u001b[1;34m(*args, **kwargs)\u001b[0m\n\u001b[0;32m     22\u001b[0m             \u001b[1;32mexcept\u001b[0m \u001b[0mStopIteration\u001b[0m\u001b[1;33m:\u001b[0m\u001b[1;33m\u001b[0m\u001b[1;33m\u001b[0m\u001b[0m\n\u001b[0;32m     23\u001b[0m                 \u001b[1;31m# No pandas.Series passed in; short-circuit\u001b[0m\u001b[1;33m\u001b[0m\u001b[1;33m\u001b[0m\u001b[1;33m\u001b[0m\u001b[0m\n\u001b[1;32m---> 24\u001b[1;33m                 \u001b[1;32mreturn\u001b[0m \u001b[0mfunc\u001b[0m\u001b[1;33m(\u001b[0m\u001b[1;33m*\u001b[0m\u001b[0margs\u001b[0m\u001b[1;33m,\u001b[0m \u001b[1;33m**\u001b[0m\u001b[0mkwargs\u001b[0m\u001b[1;33m)\u001b[0m\u001b[1;33m\u001b[0m\u001b[1;33m\u001b[0m\u001b[0m\n\u001b[0m\u001b[0;32m     25\u001b[0m \u001b[1;33m\u001b[0m\u001b[0m\n\u001b[0;32m     26\u001b[0m             \u001b[1;31m# Use Series' float64 values if pandas, else use values as passed\u001b[0m\u001b[1;33m\u001b[0m\u001b[1;33m\u001b[0m\u001b[1;33m\u001b[0m\u001b[0m\n",
      "\u001b[1;31mTypeError\u001b[0m: Argument 'real' has incorrect type (expected numpy.ndarray, got SeriesGroupBy)"
     ]
    }
   ],
   "source": [
    "%%time\n",
    "talib.MAX(df.groupby('stkcd')['open'],10)\n",
    "# talib.STDDEV()\n",
    "# df['open'].rolling(10).max()"
   ]
  },
  {
   "cell_type": "code",
   "execution_count": 10,
   "metadata": {},
   "outputs": [],
   "source": [
    "contest_channel=grpc.insecure_channel('47.103.23.116: 56702')\n",
    "question_channel=grpc.insecure_channel('47.103.23.116: 56701')\n",
    "\n",
    "contest_stub=contest_pb2_grpc.ContestStub(contest_channel)\n",
    "question_stub=question_pb2_grpc.QuestionStub(question_channel)\n",
    "\n",
    "login_response=contest_stub.login(contest_pb2.LoginRequest(user_id=88,user_pin='dDTSvdwk'))"
   ]
  },
  {
   "cell_type": "code",
   "execution_count": 15,
   "metadata": {
    "tags": []
   },
   "outputs": [
    {
     "output_type": "stream",
     "name": "stdout",
     "text": [
      "accepted: true\n\n"
     ]
    }
   ],
   "source": [
    "sequence = 0\n",
    "last_sequence = 0\n",
    "while sequence < 1000:\n",
    "    question_response=question_stub.get_question(question_pb2.QuestionRequest(user_id=88))\n",
    "    sequence = question_response.sequence\n",
    "    if last_sequence < sequence:\n",
    "        # Run our strategy here, resulting in a POS array with length 351\n",
    "\n",
    "        dailystk = [x.values for x in question_response.dailystk]\n",
    "        ds = np.asarray(dailystk)\n",
    "\n",
    "        # Here is our target array\n",
    "        # pos = np.sign(np.random.rand(351) - 0.5) * np.floor(question_response.capital / 351 / ds[:,5])\n",
    "        # pos = pos * -1\n",
    "        # summit answer\n",
    "        # submit_response = contest_stub.submit_answer(contest_pb2.AnswerRequest(user_id=88,user_pin='dDTSvdwk',session_key=login_response.session_key,sequence=sequence,positions=pos))\n",
    "        print(submit_response)\n",
    "        time.sleep(1)\n",
    "        break"
   ]
  },
  {
   "cell_type": "code",
   "execution_count": 16,
   "metadata": {},
   "outputs": [
    {
     "output_type": "execute_result",
     "data": {
      "text/plain": [
       "[58580.0, 43253.0, -15725.0, -143889.0, 0.0, 0.0, 6389.0, 52642.0, 0.0, -7694.0, -8879.0, 17633.0, -3609.0, 0.0, -21912.0, 0.0, 11217.0, 0.0, -5520.0, 134895.0, -25392.0, 0.0, -17349.0, 37998.0, -71705.0, -1901.0, -25694.0, -21801.0, 0.0, -3681.0, 83000.0, 20555.0, -5225.0, 4075.0, 0.0, -20539.0, 0.0, -5242.0, -47963.0, 3246.0, 10818.0, 10285.0, 11463.0, 0.0, -9164.0, 6991.0, 8622.0, -8773.0, 33514.0, 32951.0, 0.0, -83656.0, 0.0, -138817.0, 5632.0, -5394.0, -13306.0, 208817.0, 113411.0, 2365.0, -70997.0, 0.0, -75731.0, 0.0, 15527.0, 43419.0, 123347.0, -3002.0, 41111.0, 13335.0, 36644.0, 0.0, 0.0, -5633.0, 0.0, -2822.0, -12607.0, 0.0, -4594.0, -9735.0, 42570.0, 0.0, 0.0, 0.0, 19801.0, -215833.0, 0.0, -23051.0, 13574.0, -50784.0, 6435.0, 104000.0, -20096.0, -45030.0, 0.0, -4803.0, 13560.0, 0.0, 0.0, 0.0, -7805.0, -6552.0, 0.0, 39457.0, 40723.0, 5441.0, -12809.0, -41111.0, 189327.0, -31159.0, 0.0, 0.0, -31416.0, -8965.0, 0.0, -19603.0, 22892.0, 25593.0, -126218.0, 5374.0, -110683.0, -9946.0, -4615.0, 80718.0, 0.0, -12490.0, -11535.0, 56060.0, 13168.0, -5916.0, 14208.0, 31693.0, 18322.0, -6346.0, 0.0, 0.0, -20400.0, 29094.0, 0.0, -24073.0, 2961.0, 0.0, -8304.0, 12703.0, 4774.0, 31144.0, -25694.0, -6661.0, -74394.0, -3991.0, 0.0, 33103.0, 18380.0, -21107.0, 0.0, 2584.0, 0.0, 0.0, -28701.0, 245544.0, -48366.0, 18031.0, 0.0, -11462.0, 0.0, 97288.0, 0.0, 0.0, 0.0, -10133.0, -6744.0, 0.0, 0.0, -38610.0, 0.0, -34737.0, -46818.0, -8988.0, 0.0, -3902.0, -489.0, -542.0, 0.0, 0.0, -11566.0, 0.0, -8457.0, 0.0, 8123.0, 0.0, -7979.0, 0.0, 14060.0, 0.0, 101092.0, 93616.0, -134895.0, 0.0, 0.0, 0.0, -8222.0, 0.0, 0.0, 1432.0, -38932.0, 0.0, -3330.0, 2704.0, 0.0, 0.0, 0.0, 19692.0, 80166.0, 0.0, -143889.0, 18384.0, 0.0, 14891.0, -1456.0, 5491.0, 114750.0, 0.0, 11113.0, -9106.0, 42739.0, 0.0, 1863.0, -6598.0, 53292.0, 0.0, -24305.0, 0.0, 28777.0, -6540.0, -11300.0, 6166.0, -11419.0, 0.0, -44047.0, 0.0, 24034.0, -15731.0, 85309.0, 27742.0, 6131.0, 0.0, 0.0, -23511.0, 0.0, 0.0, 0.0, -106848.0, 202110.0, 2428.0, 138036.0, -3678.0, 0.0, -76379.0, -10785.0, -30745.0, 45438.0, 36831.0, 0.0, 0.0, 0.0, -15975.0, 0.0, 122632.0, 9303.0, -9470.0, -1802.0, 0.0, 0.0, 11257.0, -3429.0, 0.0, 6906.0, 16228.0, -172666.0, 158584.0, 2878.0, -19621.0, 4273.0, 0.0, 14446.0, 37084.0, 0.0, -3473.0, 0.0, 33272.0, -3077.0, -34061.0, 18290.0, 58333.0, -11742.0, 11074.0, 48831.0, -20938.0, -14550.0, 5410.0, -41426.0, 50784.0, 0.0, -4072.0, 0.0, 0.0, 0.0, 0.0, -35094.0, 18400.0, 0.0, 67447.0, -2151.0, 60969.0, 8839.0, -45248.0, 43636.0, -21369.0, -13835.0, -6787.0, 0.0, 14171.0, 0.0, 0.0, 0.0, -18152.0, -18428.0, -352669.0, 11367.0, -42320.0, 167312.0, -26353.0, 130271.0, -3015.0, 2123.0, 0.0, 24837.0, -1709.0, -272345.0, -79802.0, 0.0, 23182.0, 0.0, 12786.0, 0.0, 0.0, 0.0, -48069.0, -7348.0, -12057.0, 0.0]"
      ]
     },
     "metadata": {},
     "execution_count": 16
    }
   ],
   "source": [
    "question_response.positions"
   ]
  },
  {
   "cell_type": "code",
   "execution_count": 17,
   "metadata": {},
   "outputs": [
    {
     "output_type": "execute_result",
     "data": {
      "text/plain": [
       "array([  58580.,   43253.,  -15725., -143889.,    6702.,  -21077.,\n",
       "          6389.,   52642.,  -37744.,   -7694.,   -8879.,   17633.,\n",
       "         -3609.,   -6254.,  -21912., -263147.,   11217.,   40043.,\n",
       "         -5520.,  134895.,  -25392.,   22912.,  -17349.,   37998.,\n",
       "        -71705.,   -1901.,  -25694.,  -21801.,  146327.,   -3681.,\n",
       "         83000.,   20555.,   -5225.,    4075.,  -34204.,  -20539.,\n",
       "         -8809.,   -5242.,  -47963.,    3246.,   10818.,   10285.,\n",
       "         11463.,  -22647.,   -9164.,    6991.,    8622.,   -8773.,\n",
       "         33514.,   32951.,   37406.,  -83656.,   26035., -138817.,\n",
       "          5632.,   -5394.,  -13306.,  208817.,  113411.,    2365.,\n",
       "        -70997.,   19964.,  -75731.,  -55059.,   15527.,   43419.,\n",
       "        123347.,   -3002.,   41111.,   13335.,   36644.,   -8970.,\n",
       "         98106.,   -5633.,   17850.,   -2822.,  -12607.,    9176.,\n",
       "         -4594.,   -9735.,   42570.,   14060.,   15943.,   32702.,\n",
       "         19801., -215833.,  -49869.,  -23051.,   13574.,  -50784.,\n",
       "          6435.,  171310.,  -20096.,  -45030.,  -54229.,   -4803.,\n",
       "         13560.,   23849., -192708.,  -91844.,   -7805.,   -6552.,\n",
       "         42274.,   39457.,   40723.,    5441.,  -12809.,  -41111.,\n",
       "        189327.,  -31159.,  150932.,   30701.,  -31416.,   -8965.,\n",
       "         42654.,  -19603.,   22892.,   25593., -126218.,    5374.,\n",
       "       -110683.,   -9946.,   -4615.,   80718.,  113788.,  -12490.,\n",
       "        -11535.,   56060.,   13168.,   -5916.,   14208.,   31693.,\n",
       "         18322.,   -6346.,  -45922.,   -8497.,  -20400.,   29094.,\n",
       "        -10229.,  -24073.,    2961.,   -8849.,   -8304.,   12703.,\n",
       "          4774.,   31144.,  -25694.,   -6661.,  -74394.,   -3991.,\n",
       "       -256395.,   33103.,   18380.,  -21107.,   20171.,    2584.,\n",
       "         27229.,  -50905.,  -28701.,  245544.,  -48366.,   18031.,\n",
       "        -77083.,  -11462.,  -67029.,   97288.,   52386.,   82473.,\n",
       "        -17576.,  -10133.,   -6744.,  -28399.,   41586.,  -38610.,\n",
       "          8808.,  -34737.,  -46818.,   -8988., -134058.,   -3902.,\n",
       "          -489.,    -542.,  374841.,   93840.,  -11566.,  -50742.,\n",
       "         -8457.,  -69177.,    8123.,    3658.,   -7979., -164758.,\n",
       "         14060.,   95501.,  101092.,   93616., -134895.,   23771.,\n",
       "        130020.,  -62925.,   -8222.,    6522.,  -71705.,    1432.,\n",
       "        -38932.,  207532.,   -3330.,    2704.,   25633.,   24619.,\n",
       "        -52669.,   19692.,   80166.,   -4590., -143889.,   18384.,\n",
       "           616.,   14891.,   -1456.,    5491.,  114750.,   39969.,\n",
       "         11113.,   -9106.,   42739.,  -10845.,    1863.,   -6598.,\n",
       "         53292.,  -62560.,  -24305.,    3227.,   28777.,   -6540.,\n",
       "        -11300.,    6166.,  -11419.,  -22585.,  -44047.,   -7051.,\n",
       "         24034.,  -15731.,   85309.,   27742.,    6131., -229610.,\n",
       "           714.,  -23511.,   49053.,  -60627., -108852., -106848.,\n",
       "        202110.,    2428.,  138036.,   -3678.,  134895.,  -76379.,\n",
       "        -10785.,  -30745.,   45438.,   36831.,  -16191., -148850.,\n",
       "         75421.,  -15975.,   16228.,  122632.,    9303.,   -9470.,\n",
       "         -1802.,  100856.,   31833.,   11257.,   -3429.,   53823.,\n",
       "          6906.,   16228., -172666.,  158584.,    2878.,  -19621.,\n",
       "          4273., -179308.,   14446.,   37084.,   11858.,   -3473.,\n",
       "        -80459.,   33272.,   -3077.,  -34061.,   18290.,   58333.,\n",
       "        -11742.,   11074.,   48831.,  -20938.,  -14550.,    5410.,\n",
       "        -41426.,   50784.,   11823.,   -4072.,   30614.,   54919.,\n",
       "        -12548.,   12277.,  -35094.,   18400.,  -87406.,   67447.,\n",
       "         -2151.,   60969.,    8839.,  -45248.,   43636.,  -21369.,\n",
       "        -13835.,   -6787.,  -17576.,   14171.,  -57555.,   84501.,\n",
       "        -11431.,  -18152.,  -18428., -352669.,   11367.,  -42320.,\n",
       "        167312.,  -26353.,  130271.,   -3015.,    2123.,   35972.,\n",
       "         24837.,   -1709., -272345.,  -79802.,  -14622.,   23182.,\n",
       "         13017.,   12786.,   12710.,   41558.,  -15720.,  -48069.,\n",
       "         -7348.,  -12057.,  -15112.])"
      ]
     },
     "metadata": {},
     "execution_count": 17
    }
   ],
   "source": [
    "pos"
   ]
  },
  {
   "cell_type": "code",
   "execution_count": 13,
   "metadata": {},
   "outputs": [
    {
     "output_type": "execute_result",
     "data": {
      "text/plain": [
       "True"
      ]
     },
     "metadata": {},
     "execution_count": 13
    }
   ],
   "source": [
    "submit_response.accepted"
   ]
  },
  {
   "cell_type": "code",
   "execution_count": 4,
   "metadata": {},
   "outputs": [],
   "source": [
    "question_response=question_stub.get_question(question_pb2.QuestionRequest(user_id=88))"
   ]
  },
  {
   "cell_type": "code",
   "execution_count": 5,
   "metadata": {},
   "outputs": [
    {
     "output_type": "execute_result",
     "data": {
      "text/plain": [
       "483828965.01277775"
      ]
     },
     "metadata": {},
     "execution_count": 5
    }
   ],
   "source": [
    "question_response.capital"
   ]
  },
  {
   "cell_type": "code",
   "execution_count": null,
   "metadata": {},
   "outputs": [],
   "source": []
  }
 ]
}