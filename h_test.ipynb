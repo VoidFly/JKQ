{
 "metadata": {
  "language_info": {
   "codemirror_mode": {
    "name": "ipython",
    "version": 3
   },
   "file_extension": ".py",
   "mimetype": "text/x-python",
   "name": "python",
   "nbconvert_exporter": "python",
   "pygments_lexer": "ipython3",
   "version": "3.7.5-final"
  },
  "orig_nbformat": 2,
  "kernelspec": {
   "name": "python3",
   "display_name": "Python 3",
   "language": "python"
  }
 },
 "nbformat": 4,
 "nbformat_minor": 2,
 "cells": [
  {
   "cell_type": "code",
   "execution_count": 1,
   "metadata": {},
   "outputs": [],
   "source": [
    "import logging\n",
    "import grpc\n",
    "import pandas as np\n",
    "import numpy as np\n",
    "import time\n",
    "\n",
    "import contest_pb2\n",
    "import contest_pb2_grpc\n",
    "import question_pb2\n",
    "import question_pb2_grpc"
   ]
  },
  {
   "cell_type": "code",
   "execution_count": 2,
   "metadata": {},
   "outputs": [],
   "source": [
    "contest_channel=grpc.insecure_channel('47.103.23.116: 56702')\n",
    "question_channel=grpc.insecure_channel('47.103.23.116: 56701')\n",
    "\n",
    "contest_stub=contest_pb2_grpc.ContestStub(contest_channel)\n",
    "question_stub=question_pb2_grpc.QuestionStub(question_channel)\n",
    "\n",
    "login_response=contest_stub.login(contest_pb2.LoginRequest(user_id=88,user_pin='dDTSvdwk'))"
   ]
  },
  {
   "cell_type": "code",
   "execution_count": 3,
   "metadata": {
    "tags": []
   },
   "outputs": [
    {
     "output_type": "stream",
     "name": "stdout",
     "text": [
      "accepted: true\n\n"
     ]
    }
   ],
   "source": [
    "sequence = 0\n",
    "last_sequence = 0\n",
    "while sequence < 1000:\n",
    "    question_response=question_stub.get_question(question_pb2.QuestionRequest(user_id=88))\n",
    "    sequence = question_response.sequence\n",
    "    if last_sequence < sequence:\n",
    "        # Run our strategy here, resulting in a POS array with length 351\n",
    "\n",
    "        dailystk = [x.values for x in question_response.dailystk]\n",
    "        ds = np.asarray(dailystk)\n",
    "\n",
    "        # Here is our target array\n",
    "        pos = np.sign(np.random.rand(351) - 0.5) * np.floor(question_response.capital / 351 / ds[:,5])\n",
    "\n",
    "        # summit answer\n",
    "        submit_response = contest_stub.submit_answer(contest_pb2.AnswerRequest(user_id=88,user_pin='dDTSvdwk',session_key=login_response.session_key,sequence=sequence,positions=pos))\n",
    "        print(submit_response)\n",
    "        time.sleep(1)\n",
    "    break"
   ]
  },
  {
   "cell_type": "code",
   "execution_count": null,
   "metadata": {},
   "outputs": [],
   "source": []
  }
 ]
}