{
 "metadata": {
  "language_info": {
   "codemirror_mode": {
    "name": "ipython",
    "version": 3
   },
   "file_extension": ".py",
   "mimetype": "text/x-python",
   "name": "python",
   "nbconvert_exporter": "python",
   "pygments_lexer": "ipython3",
   "version": "3.7.5-final"
  },
  "orig_nbformat": 2,
  "kernelspec": {
   "name": "python3",
   "display_name": "Python 3",
   "language": "python"
  }
 },
 "nbformat": 4,
 "nbformat_minor": 2,
 "cells": [
  {
   "cell_type": "code",
   "execution_count": 1,
   "metadata": {},
   "outputs": [],
   "source": [
    "import pandas as pd \n",
    "import numpy as np\n",
    "from utils import *\n",
    "import time"
   ]
  },
  {
   "cell_type": "code",
   "execution_count": 2,
   "metadata": {},
   "outputs": [],
   "source": [
    "df = pd.read_csv(\"./data/CONTEST_DATA_IN_SAMPLE_1.csv\",header=None)"
   ]
  },
  {
   "cell_type": "code",
   "execution_count": 3,
   "metadata": {},
   "outputs": [],
   "source": [
    "df.columns = ['time','stkcd','open','high','low','close','volume']"
   ]
  },
  {
   "cell_type": "code",
   "execution_count": 4,
   "metadata": {
    "tags": []
   },
   "outputs": [],
   "source": [
    "close_df = pd.DataFrame()\n",
    "high_df = pd.DataFrame()\n",
    "low_df = pd.DataFrame()\n",
    "volume_df = pd.DataFrame()\n",
    "for sub_df in df.groupby('stkcd'):\n",
    "    close_df[sub_df[0]] = sub_df[1].reset_index().close\n",
    "    high_df[sub_df[0]] = sub_df[1].reset_index().high\n",
    "    low_df[sub_df[0]] = sub_df[1].reset_index().low\n",
    "    volume_df[sub_df[0]] = sub_df[1].reset_index().volume\n",
    "highs = high_df.values\n",
    "lows = low_df.values\n",
    "closes = close_df.values\n",
    "volumes = volume_df.values\n",
    "\n",
    "rts = np.diff(closes,axis=0)/closes[:-1]"
   ]
  },
  {
   "cell_type": "code",
   "execution_count": 10,
   "metadata": {},
   "outputs": [],
   "source": [
    "rts = np.diff(closes,axis=0)/closes[:-1]"
   ]
  },
  {
   "cell_type": "code",
   "execution_count": 12,
   "metadata": {},
   "outputs": [],
   "source": [
    "moms = []\n",
    "vols = []\n",
    "max52s = []\n",
    "min52s = []\n",
    "ccis = []\n",
    "Ks = []\n",
    "Ds = []\n",
    "Js = []\n",
    "rsis = []\n",
    "trixs = []\n",
    "willrs = []\n",
    "macds = []\n",
    "natrs = []\n",
    "\n",
    "for i in range(100,1100):\n",
    "    c = closes[:i]\n",
    "    h = highs[:i]\n",
    "    l = lows[:i]\n",
    "\n",
    "    mom=get_mom(c,3)\n",
    "    vol=get_vol(c,3)\n",
    "    max52=get_52weekhigh(c)\n",
    "    min52=get_52weeklow(c)\n",
    "    cci = get_cci(h,l,c)\n",
    "    K,D,J = get_kdj(h,l,c)\n",
    "    rsi = get_rsi(c)\n",
    "    trix = get_trix(c)\n",
    "    willr = get_willr(h,l,c)\n",
    "    macd = get_macd(c)\n",
    "    natr = get_natr(h,l,c)\n",
    "\n",
    "    moms.append(mom)\n",
    "    vols.append(vol)\n",
    "    max52s.append(max52)\n",
    "    min52s.append(min52)\n",
    "    ccis.append(cci)\n",
    "    Ks.append(K)\n",
    "    Ds.append(D)\n",
    "    Js.append(J)\n",
    "    rsis.append(rsi)\n",
    "    trixs.append(trix)\n",
    "    willrs.append(willr)\n",
    "    macds.append(macd)\n",
    "    natrs.append(natr)"
   ]
  },
  {
   "cell_type": "code",
   "execution_count": null,
   "metadata": {},
   "outputs": [],
   "source": []
  }
 ]
}