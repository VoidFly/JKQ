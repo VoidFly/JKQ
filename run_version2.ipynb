{
 "metadata": {
  "language_info": {
   "codemirror_mode": {
    "name": "ipython",
    "version": 3
   },
   "file_extension": ".py",
   "mimetype": "text/x-python",
   "name": "python",
   "nbconvert_exporter": "python",
   "pygments_lexer": "ipython3",
   "version": "3.7.5-final"
  },
  "orig_nbformat": 2,
  "kernelspec": {
   "name": "python3",
   "display_name": "Python 3",
   "language": "python"
  }
 },
 "nbformat": 4,
 "nbformat_minor": 2,
 "cells": [
  {
   "cell_type": "code",
   "execution_count": 107,
   "metadata": {},
   "outputs": [],
   "source": [
    "%reload_ext autoreload\n",
    "%autoreload 2\n",
    "import logging\n",
    "import grpc\n",
    "import pandas as pd\n",
    "import sys\n",
    "sys.path.append('proto')\n",
    "from proto import contest_pb2\n",
    "from proto import contest_pb2_grpc\n",
    "from proto import question_pb2\n",
    "from proto import question_pb2_grpc\n",
    "import numpy as np\n",
    "import time\n",
    "from utils import *\n",
    "from strategy_utils import *"
   ]
  },
  {
   "cell_type": "code",
   "execution_count": 108,
   "metadata": {},
   "outputs": [],
   "source": [
    "contest_channel=grpc.insecure_channel('47.103.23.116: 56702')\n",
    "question_channel=grpc.insecure_channel('47.103.23.116: 56701')\n",
    "\n",
    "contest_stub=contest_pb2_grpc.ContestStub(contest_channel)\n",
    "question_stub=question_pb2_grpc.QuestionStub(question_channel)\n",
    "\n",
    "login_response=contest_stub.login(contest_pb2.LoginRequest(user_id=88,user_pin='dDTSvdwk'))\n",
    "\n",
    "session_key=login_response.session_key\n",
    "init_capital=login_response.init_capital"
   ]
  },
  {
   "cell_type": "code",
   "execution_count": 4,
   "metadata": {},
   "outputs": [
    {
     "output_type": "execute_result",
     "data": {
      "text/plain": [
       "           day   stock       open       high        low      close    volume\n",
       "0      -1100.0  1000.0   19.96632   19.96632   19.06278   19.18884  299216.0\n",
       "1      -1100.0  1001.0   33.59400   33.59400   33.59400   33.59400       0.0\n",
       "2      -1100.0  1002.0   84.11766   84.76446   81.01170   84.50574  233872.0\n",
       "3      -1100.0  1003.0    5.54400    5.54400    5.27340    5.27340   19200.0\n",
       "4      -1100.0  1004.0  198.46200  203.41200  195.69000  203.41200    6736.0\n",
       "...        ...     ...        ...        ...        ...        ...       ...\n",
       "386095    -1.0  1346.0   46.26732   48.90600   46.26732   48.90600    4544.0\n",
       "386096    -1.0  1347.0   68.50140   69.43200   68.50140   69.43200    2400.0\n",
       "386097    -1.0  1348.0  238.55700  241.23660  238.26000  238.49100    6800.0\n",
       "386098    -1.0  1349.0  139.30620  141.66240  139.30620  141.17400    2288.0\n",
       "386099    -1.0  1350.0  218.58540  222.04380  218.58540  221.12640    9840.0\n",
       "\n",
       "[386100 rows x 7 columns]"
      ],
      "text/html": "<div>\n<style scoped>\n    .dataframe tbody tr th:only-of-type {\n        vertical-align: middle;\n    }\n\n    .dataframe tbody tr th {\n        vertical-align: top;\n    }\n\n    .dataframe thead th {\n        text-align: right;\n    }\n</style>\n<table border=\"1\" class=\"dataframe\">\n  <thead>\n    <tr style=\"text-align: right;\">\n      <th></th>\n      <th>day</th>\n      <th>stock</th>\n      <th>open</th>\n      <th>high</th>\n      <th>low</th>\n      <th>close</th>\n      <th>volume</th>\n    </tr>\n  </thead>\n  <tbody>\n    <tr>\n      <th>0</th>\n      <td>-1100.0</td>\n      <td>1000.0</td>\n      <td>19.96632</td>\n      <td>19.96632</td>\n      <td>19.06278</td>\n      <td>19.18884</td>\n      <td>299216.0</td>\n    </tr>\n    <tr>\n      <th>1</th>\n      <td>-1100.0</td>\n      <td>1001.0</td>\n      <td>33.59400</td>\n      <td>33.59400</td>\n      <td>33.59400</td>\n      <td>33.59400</td>\n      <td>0.0</td>\n    </tr>\n    <tr>\n      <th>2</th>\n      <td>-1100.0</td>\n      <td>1002.0</td>\n      <td>84.11766</td>\n      <td>84.76446</td>\n      <td>81.01170</td>\n      <td>84.50574</td>\n      <td>233872.0</td>\n    </tr>\n    <tr>\n      <th>3</th>\n      <td>-1100.0</td>\n      <td>1003.0</td>\n      <td>5.54400</td>\n      <td>5.54400</td>\n      <td>5.27340</td>\n      <td>5.27340</td>\n      <td>19200.0</td>\n    </tr>\n    <tr>\n      <th>4</th>\n      <td>-1100.0</td>\n      <td>1004.0</td>\n      <td>198.46200</td>\n      <td>203.41200</td>\n      <td>195.69000</td>\n      <td>203.41200</td>\n      <td>6736.0</td>\n    </tr>\n    <tr>\n      <th>...</th>\n      <td>...</td>\n      <td>...</td>\n      <td>...</td>\n      <td>...</td>\n      <td>...</td>\n      <td>...</td>\n      <td>...</td>\n    </tr>\n    <tr>\n      <th>386095</th>\n      <td>-1.0</td>\n      <td>1346.0</td>\n      <td>46.26732</td>\n      <td>48.90600</td>\n      <td>46.26732</td>\n      <td>48.90600</td>\n      <td>4544.0</td>\n    </tr>\n    <tr>\n      <th>386096</th>\n      <td>-1.0</td>\n      <td>1347.0</td>\n      <td>68.50140</td>\n      <td>69.43200</td>\n      <td>68.50140</td>\n      <td>69.43200</td>\n      <td>2400.0</td>\n    </tr>\n    <tr>\n      <th>386097</th>\n      <td>-1.0</td>\n      <td>1348.0</td>\n      <td>238.55700</td>\n      <td>241.23660</td>\n      <td>238.26000</td>\n      <td>238.49100</td>\n      <td>6800.0</td>\n    </tr>\n    <tr>\n      <th>386098</th>\n      <td>-1.0</td>\n      <td>1349.0</td>\n      <td>139.30620</td>\n      <td>141.66240</td>\n      <td>139.30620</td>\n      <td>141.17400</td>\n      <td>2288.0</td>\n    </tr>\n    <tr>\n      <th>386099</th>\n      <td>-1.0</td>\n      <td>1350.0</td>\n      <td>218.58540</td>\n      <td>222.04380</td>\n      <td>218.58540</td>\n      <td>221.12640</td>\n      <td>9840.0</td>\n    </tr>\n  </tbody>\n</table>\n<p>386100 rows × 7 columns</p>\n</div>"
     },
     "metadata": {},
     "execution_count": 4
    }
   ],
   "source": [
    "df"
   ]
  },
  {
   "cell_type": "code",
   "execution_count": 11,
   "metadata": {},
   "outputs": [],
   "source": [
    "df = pd.read_csv('./data/saved_data.csv',dtype=float).set_index(['day','stock'])\n",
    "o = df['open'].unstack(level=1).values\n",
    "h = df['high'].unstack(level=1).values\n",
    "l = df['low'].unstack(level=1).values\n",
    "c = df['close'].unstack(level=1).values\n",
    "v = df['volume'].unstack(level=1).values\n",
    "r = df['close'].unstack(level=1).pct_change().values\n",
    "\n",
    "dailyfactors = get_factors_with_ohlcv(o,h,l,c,v)"
   ]
  },
  {
   "cell_type": "code",
   "execution_count": 42,
   "metadata": {},
   "outputs": [],
   "source": [
    "history_weights = np.empty((0,daily_factor_weights.shape[0],daily_factor_weights.shape[1]))\n",
    "for j in range(52,0,-1):\n",
    "    dailyfactors = get_factors_with_ohlcv(o[-j-252:-j],h[-j-252:-j],l[-j-252:-j],c[-j-252:-j],v[-j-252:-j])\n",
    "    daily_factor_weights = get_all_weights(dailyfactors,head_n=10,tail_n=10)\n",
    "    history_weights = np.vstack([history_weights,daily_factor_weights.reshape((1,daily_factor_weights.shape[0],daily_factor_weights.shape[1]))])\n",
    "dailyfactors = get_factors_with_ohlcv(o[-252:],h[-252:],l[-252:],c[-252:],v[-252:])\n",
    "daily_factor_weights = get_all_weights(dailyfactors,head_n=10,tail_n=10)\n",
    "history_weights = np.vstack([history_weights,daily_factor_weights.reshape((1,daily_factor_weights.shape[0],daily_factor_weights.shape[1]))])"
   ]
  },
  {
   "cell_type": "code",
   "execution_count": 61,
   "metadata": {},
   "outputs": [],
   "source": [
    "new_hr = np.dot(history_weights[i-52],r[i-50])"
   ]
  },
  {
   "cell_type": "code",
   "execution_count": 105,
   "metadata": {},
   "outputs": [],
   "source": [
    "init_weight = np.ones(daily_factor_weights.shape[0]) / daily_factor_weights.shape[0]\n",
    "hr = np.empty((0,daily_factor_weights.shape[0]))\n",
    "for i in range(50):\n",
    "    factor_weights,hr = update_weights_history(history_weights[i-52],r[i-50],hr)"
   ]
  },
  {
   "cell_type": "code",
   "execution_count": 112,
   "metadata": {},
   "outputs": [],
   "source": [
    "i=0#控制seq\n",
    "count=0\n",
    "data_lst=df.values.tolist()\n",
    "# factors_lst=[]\n",
    "period=1#eg 每两天跑一次策略\n",
    "comission=0#\n",
    "max_exposure=0.1#大盘上涨，多头增加，大盘下跌，空头增加\n",
    "single_stock_position_limit=0.1#\n",
    "lending_rate=0.01#\n",
    "borrow_rate=0.05#\n",
    "leverage=2#\n",
    "# factors=pd.DataFrame()\n",
    "prev_factors=pd.DataFrame()#上一次计算的factors\n",
    "# prepare history data\n",
    "# o \n",
    "# h \n",
    "# l \n",
    "# c \n",
    "# v \n",
    "# p \n",
    "# history_weights = np.ndarray()"
   ]
  },
  {
   "cell_type": "code",
   "execution_count": 10,
   "metadata": {},
   "outputs": [],
   "source": [
    "# history_weights = np.empty(0)"
   ]
  },
  {
   "cell_type": "code",
   "execution_count": 118,
   "metadata": {},
   "outputs": [
    {
     "output_type": "stream",
     "name": "stdout",
     "text": [
      "502\n",
      "run strategy\n",
      "stock\n",
      "1016.0       53169\n",
      "1023.0      397156\n",
      "1059.0      163736\n",
      "1060.0      471017\n",
      "1065.0     2618430\n",
      "1069.0     2847488\n",
      "1080.0      552958\n",
      "1086.0      504241\n",
      "1087.0     1243556\n",
      "1091.0     3257840\n",
      "1158.0      370006\n",
      "1160.0      258167\n",
      "1176.0      479603\n",
      "1188.0     1311571\n",
      "1192.0      153943\n",
      "1196.0      187604\n",
      "1205.0    12222156\n",
      "1210.0     2366563\n",
      "1218.0     1316127\n",
      "1225.0      157869\n",
      "1232.0     1353167\n",
      "1267.0     3898012\n",
      "1276.0       48189\n",
      "1277.0      635716\n",
      "1282.0       98874\n",
      "1295.0       88405\n",
      "1296.0      403156\n",
      "1307.0       74985\n",
      "1312.0       79258\n",
      "1314.0      143626\n",
      "1315.0      859543\n",
      "1317.0      558336\n",
      "1329.0      203658\n",
      "1346.0     1058934\n",
      "Name: close, dtype: int32\n",
      "reason: \"exceed max exposure, long value=537639328.81 and short_value=0.00\"\n",
      " 537640443.093891\n",
      "exceed max exposure, long value=537639328.81 and short_value=0.00\n"
     ]
    },
    {
     "output_type": "error",
     "ename": "ValueError",
     "evalue": "all the input array dimensions for the concatenation axis must match exactly, but along dimension 1, the array at index 0 has size 14 and the array at index 1 has size 351",
     "traceback": [
      "\u001b[1;31m---------------------------------------------------------------------------\u001b[0m",
      "\u001b[1;31mValueError\u001b[0m                                Traceback (most recent call last)",
      "\u001b[1;32m<ipython-input-118-f68fc0caca89>\u001b[0m in \u001b[0;36m<module>\u001b[1;34m\u001b[0m\n\u001b[0;32m     73\u001b[0m                 \u001b[0mpctchg\u001b[0m \u001b[1;33m=\u001b[0m \u001b[0mc\u001b[0m\u001b[1;33m[\u001b[0m\u001b[1;33m-\u001b[0m\u001b[1;36m1\u001b[0m\u001b[1;33m,\u001b[0m\u001b[1;33m:\u001b[0m\u001b[1;33m]\u001b[0m \u001b[1;33m/\u001b[0m \u001b[0mc\u001b[0m\u001b[1;33m[\u001b[0m\u001b[1;33m-\u001b[0m\u001b[1;36m2\u001b[0m\u001b[1;33m,\u001b[0m\u001b[1;33m:\u001b[0m\u001b[1;33m]\u001b[0m \u001b[1;33m-\u001b[0m \u001b[1;36m1\u001b[0m\u001b[1;33m\u001b[0m\u001b[1;33m\u001b[0m\u001b[0m\n\u001b[0;32m     74\u001b[0m                 \u001b[0mr\u001b[0m \u001b[1;33m=\u001b[0m \u001b[0mnp\u001b[0m\u001b[1;33m.\u001b[0m\u001b[0mvstack\u001b[0m\u001b[1;33m(\u001b[0m\u001b[1;33m[\u001b[0m\u001b[0mr\u001b[0m\u001b[1;33m,\u001b[0m\u001b[0mpctchg\u001b[0m\u001b[1;33m]\u001b[0m\u001b[1;33m)\u001b[0m\u001b[1;33m\u001b[0m\u001b[1;33m\u001b[0m\u001b[0m\n\u001b[1;32m---> 75\u001b[1;33m                 \u001b[0mfactor_weights\u001b[0m\u001b[1;33m,\u001b[0m\u001b[0mhr\u001b[0m \u001b[1;33m=\u001b[0m \u001b[0mupdate_weights_history\u001b[0m\u001b[1;33m(\u001b[0m\u001b[0mhistory_weights\u001b[0m\u001b[1;33m[\u001b[0m\u001b[1;33m-\u001b[0m\u001b[1;36m2\u001b[0m\u001b[1;33m]\u001b[0m\u001b[1;33m,\u001b[0m\u001b[0mpctchg\u001b[0m\u001b[1;33m,\u001b[0m\u001b[0mhr\u001b[0m\u001b[1;33m)\u001b[0m\u001b[1;33m\u001b[0m\u001b[1;33m\u001b[0m\u001b[0m\n\u001b[0m\u001b[0;32m     76\u001b[0m                 \u001b[0mdata_lst\u001b[0m\u001b[1;33m.\u001b[0m\u001b[0mextend\u001b[0m\u001b[1;33m(\u001b[0m\u001b[0mdailystk\u001b[0m\u001b[1;33m)\u001b[0m\u001b[1;33m\u001b[0m\u001b[1;33m\u001b[0m\u001b[0m\n\u001b[0;32m     77\u001b[0m                 \u001b[0mdf\u001b[0m\u001b[1;33m=\u001b[0m\u001b[0mpd\u001b[0m\u001b[1;33m.\u001b[0m\u001b[0mDataFrame\u001b[0m\u001b[1;33m(\u001b[0m\u001b[0mdata_lst\u001b[0m\u001b[1;33m,\u001b[0m\u001b[0mcolumns\u001b[0m\u001b[1;33m=\u001b[0m\u001b[1;33m[\u001b[0m\u001b[1;34m'day'\u001b[0m\u001b[1;33m,\u001b[0m\u001b[1;34m'stock'\u001b[0m\u001b[1;33m,\u001b[0m\u001b[1;34m'open'\u001b[0m\u001b[1;33m,\u001b[0m\u001b[1;34m'high'\u001b[0m\u001b[1;33m,\u001b[0m\u001b[1;34m'low'\u001b[0m\u001b[1;33m,\u001b[0m\u001b[1;34m'close'\u001b[0m\u001b[1;33m,\u001b[0m\u001b[1;34m'volume'\u001b[0m\u001b[1;33m]\u001b[0m\u001b[1;33m,\u001b[0m \u001b[0mdtype\u001b[0m\u001b[1;33m=\u001b[0m\u001b[0mfloat\u001b[0m\u001b[1;33m)\u001b[0m\u001b[1;33m.\u001b[0m\u001b[0mset_index\u001b[0m\u001b[1;33m(\u001b[0m\u001b[1;33m[\u001b[0m\u001b[1;34m'day'\u001b[0m\u001b[1;33m,\u001b[0m\u001b[1;34m'stock'\u001b[0m\u001b[1;33m]\u001b[0m\u001b[1;33m)\u001b[0m\u001b[1;33m\u001b[0m\u001b[1;33m\u001b[0m\u001b[0m\n",
      "\u001b[1;32me:\\Documents\\GitHub\\JKQ\\strategy_utils.py\u001b[0m in \u001b[0;36mupdate_weights_history\u001b[1;34m(history_weights, r, hr)\u001b[0m\n\u001b[0;32m    234\u001b[0m \u001b[1;32mdef\u001b[0m \u001b[0mupdate_weights_history\u001b[0m\u001b[1;33m(\u001b[0m\u001b[0mhistory_weights\u001b[0m\u001b[1;33m,\u001b[0m\u001b[0mr\u001b[0m\u001b[1;33m,\u001b[0m\u001b[0mhr\u001b[0m\u001b[1;33m)\u001b[0m\u001b[1;33m:\u001b[0m\u001b[1;33m\u001b[0m\u001b[1;33m\u001b[0m\u001b[0m\n\u001b[0;32m    235\u001b[0m     \u001b[0mnew_hr\u001b[0m \u001b[1;33m=\u001b[0m \u001b[0mnp\u001b[0m\u001b[1;33m.\u001b[0m\u001b[0mdot\u001b[0m\u001b[1;33m(\u001b[0m\u001b[0mhistory_weights\u001b[0m\u001b[1;33m,\u001b[0m\u001b[0mr\u001b[0m\u001b[1;33m)\u001b[0m\u001b[1;33m\u001b[0m\u001b[1;33m\u001b[0m\u001b[0m\n\u001b[1;32m--> 236\u001b[1;33m     \u001b[0mhr\u001b[0m \u001b[1;33m=\u001b[0m \u001b[0mnp\u001b[0m\u001b[1;33m.\u001b[0m\u001b[0mvstack\u001b[0m\u001b[1;33m(\u001b[0m\u001b[1;33m[\u001b[0m\u001b[0mhr\u001b[0m\u001b[1;33m,\u001b[0m\u001b[0mnew_hr\u001b[0m\u001b[1;33m]\u001b[0m\u001b[1;33m)\u001b[0m\u001b[1;33m\u001b[0m\u001b[1;33m\u001b[0m\u001b[0m\n\u001b[0m\u001b[0;32m    237\u001b[0m     \u001b[1;31m# here give selection rules\u001b[0m\u001b[1;33m\u001b[0m\u001b[1;33m\u001b[0m\u001b[1;33m\u001b[0m\u001b[0m\n\u001b[0;32m    238\u001b[0m     \u001b[1;31m# greatest = np.argmax(hr[-20:].mean(axis=0))\u001b[0m\u001b[1;33m\u001b[0m\u001b[1;33m\u001b[0m\u001b[1;33m\u001b[0m\u001b[0m\n",
      "\u001b[1;32m<__array_function__ internals>\u001b[0m in \u001b[0;36mvstack\u001b[1;34m(*args, **kwargs)\u001b[0m\n",
      "\u001b[1;32mD:\\Anaconda3\\envs\\inno\\lib\\site-packages\\numpy\\core\\shape_base.py\u001b[0m in \u001b[0;36mvstack\u001b[1;34m(tup)\u001b[0m\n\u001b[0;32m    280\u001b[0m     \u001b[1;32mif\u001b[0m \u001b[1;32mnot\u001b[0m \u001b[0misinstance\u001b[0m\u001b[1;33m(\u001b[0m\u001b[0marrs\u001b[0m\u001b[1;33m,\u001b[0m \u001b[0mlist\u001b[0m\u001b[1;33m)\u001b[0m\u001b[1;33m:\u001b[0m\u001b[1;33m\u001b[0m\u001b[1;33m\u001b[0m\u001b[0m\n\u001b[0;32m    281\u001b[0m         \u001b[0marrs\u001b[0m \u001b[1;33m=\u001b[0m \u001b[1;33m[\u001b[0m\u001b[0marrs\u001b[0m\u001b[1;33m]\u001b[0m\u001b[1;33m\u001b[0m\u001b[1;33m\u001b[0m\u001b[0m\n\u001b[1;32m--> 282\u001b[1;33m     \u001b[1;32mreturn\u001b[0m \u001b[0m_nx\u001b[0m\u001b[1;33m.\u001b[0m\u001b[0mconcatenate\u001b[0m\u001b[1;33m(\u001b[0m\u001b[0marrs\u001b[0m\u001b[1;33m,\u001b[0m \u001b[1;36m0\u001b[0m\u001b[1;33m)\u001b[0m\u001b[1;33m\u001b[0m\u001b[1;33m\u001b[0m\u001b[0m\n\u001b[0m\u001b[0;32m    283\u001b[0m \u001b[1;33m\u001b[0m\u001b[0m\n\u001b[0;32m    284\u001b[0m \u001b[1;33m\u001b[0m\u001b[0m\n",
      "\u001b[1;32m<__array_function__ internals>\u001b[0m in \u001b[0;36mconcatenate\u001b[1;34m(*args, **kwargs)\u001b[0m\n",
      "\u001b[1;31mValueError\u001b[0m: all the input array dimensions for the concatenation axis must match exactly, but along dimension 1, the array at index 0 has size 14 and the array at index 1 has size 351"
     ]
    }
   ],
   "source": [
    "while True:\n",
    "    login_response=contest_stub.login(contest_pb2.LoginRequest(user_id=88,user_pin='dDTSvdwk'))\n",
    "\n",
    "    session_key=login_response.session_key\n",
    "    init_capital=login_response.init_capital\n",
    "    i = 0\n",
    "    # try:\n",
    "    while True:\n",
    "        question_response=question_stub.get_question(question_pb2.QuestionRequest(user_id=88,sequence=i))\n",
    "        print(question_response.sequence)\n",
    "        if question_response.sequence!=-1:\n",
    "            if i == 0 :\n",
    "                i = question_response.sequence\n",
    "            dailystk = [x.values for x in question_response.dailystk]\n",
    "\n",
    "            daily = np.asarray(dailystk)\n",
    "            o = np.vstack([o,daily[:,2]])\n",
    "            h = np.vstack([o,daily[:,3]])\n",
    "            l = np.vstack([o,daily[:,4]])\n",
    "            c = np.vstack([o,daily[:,5]])\n",
    "            v = np.vstack([o,daily[:,6]])\n",
    "            if count>-1:#开始不动，只要有新数据就跑一次策略\n",
    "                print('run strategy')\n",
    "\n",
    "                \n",
    "                dailyfactors=get_factors(df,prev_factors)  #从数据获取因子\n",
    "\n",
    "                dailyfactors = get_factors_with_ohlcv(o,h,l,c,v)\n",
    "                # prev_factors=dailyfactors\n",
    "\n",
    "                daily_factor_weights = get_all_weights(dailyfactors,head_n=10,tail_n=10) # shape: 351 * factors#\n",
    "\n",
    "                daily_trade_weights = get_trade_weights(daily_factor_weights,factor_weights,bias=1) # shape: 351 * 1\n",
    "\n",
    "\n",
    "                # factors_lst.extend(dailyfactors.values)#向因子库追加\n",
    "                #部份因子可能需要根据历史因子数据归一化\n",
    "\n",
    "                # factor_select=select_factors(factors,n=10,period=period)  #计算相关系数选取因子\n",
    "                # factor_select=['avg', 'mom', 'max52', 'cci', 'K', 'D', 'J', 'rsi', 'trix', 'willr']\n",
    "                # factor_select=['avg','mom', 'vol', 'max52', 'K', 'D', 'J', 'rsi', 'trix', 'willr', 'macd', 'natr','mfi']\n",
    "                # factor_select=['avg', 'mom', 'max52', 'D', 'willr', 'natr', 'rsi']\n",
    "\n",
    "                # index_direction='neutral'#TODO 大盘方向，用于控制exposure\n",
    "\n",
    "                # weights = get_weight(dailyfactors[factor_select],head_n=10,tail_n=10)\n",
    "                if count < 100:\n",
    "                    target_pos=get_position(daily_trade_weights,\n",
    "                                            pd.DataFrame(dailystk,columns=['day','stock','open','high','low','close','volume'],dtype=float),#只需要close，待优化\n",
    "                                            question_response.positions,\n",
    "                                            question_response.capital / 2,\n",
    "                                            comission)\n",
    "                else:\n",
    "                    target_pos=get_position(daily_trade_weights,\n",
    "                                            pd.DataFrame(dailystk,columns=['day','stock','open','high','low','close','volume'],dtype=float),#只需要close，待优化\n",
    "                                            question_response.positions,\n",
    "                                            question_response.capital,\n",
    "                                            comission)\n",
    "                \n",
    "                #提交策略\n",
    "                if count%period==0:#按周期提交\n",
    "                    ##summit answer\n",
    "                    submit_response = contest_stub.submit_answer(contest_pb2.AnswerRequest(user_id=88,user_pin='dDTSvdwk',session_key=login_response.session_key,sequence=i,positions=target_pos))\n",
    "\n",
    "                    print(submit_response,question_response.capital)\n",
    "                    if not submit_response.accepted:\n",
    "                        print(submit_response.reason)\n",
    "                        if submit_response.reason[-7:] == 'timeout':\n",
    "                            i=question_response.sequence+1\n",
    "                            count+=1\n",
    "                            continue#如果提交超时，直接请求新数据\n",
    "                history_weights = np.vstack([history_weights,daily_factor_weights.reshape((1,daily_factor_weights.shape[0],daily_factor_weights.shape[1]))])\n",
    "                pctchg = c[-1,:] / c[-2,:] - 1\n",
    "                r = np.vstack([r,pctchg])\n",
    "                factor_weights,hr = update_weights_history(history_weights[-2],pctchg,hr)\n",
    "                data_lst.extend(dailystk)\n",
    "                df=pd.DataFrame(data_lst,columns=['day','stock','open','high','low','close','volume'], dtype=float).set_index(['day','stock'])\n",
    "                df.to_csv('./data/saved_data.csv')\n",
    "            i=question_response.sequence+1\n",
    "            count+=1\n",
    "        time.sleep(1)\n",
    "            # if count==20:\n",
    "                # break\n",
    "    # except Exception as e:\n",
    "    #     print(e)\n",
    "    time.sleep(1)"
   ]
  },
  {
   "cell_type": "code",
   "execution_count": 116,
   "metadata": {},
   "outputs": [
    {
     "output_type": "execute_result",
     "data": {
      "text/plain": [
       "(14, 351)"
      ]
     },
     "metadata": {},
     "execution_count": 116
    }
   ],
   "source": [
    "daily_factor_weights.shape"
   ]
  },
  {
   "cell_type": "code",
   "execution_count": 120,
   "metadata": {},
   "outputs": [
    {
     "output_type": "execute_result",
     "data": {
      "text/plain": [
       "array([-0., -0., -0., ..., -0., -0., -0.])"
      ]
     },
     "metadata": {},
     "execution_count": 120
    }
   ],
   "source": [
    "history_weights"
   ]
  },
  {
   "cell_type": "code",
   "execution_count": null,
   "metadata": {},
   "outputs": [],
   "source": []
  }
 ]
}