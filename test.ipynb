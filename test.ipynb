{
 "metadata": {
  "language_info": {
   "codemirror_mode": {
    "name": "ipython",
    "version": 3
   },
   "file_extension": ".py",
   "mimetype": "text/x-python",
   "name": "python",
   "nbconvert_exporter": "python",
   "pygments_lexer": "ipython3",
   "version": "3.8.3-final"
  },
  "orig_nbformat": 2,
  "kernelspec": {
   "name": "python3",
   "display_name": "Python 3",
   "language": "python"
  }
 },
 "nbformat": 4,
 "nbformat_minor": 2,
 "cells": [
  {
   "cell_type": "code",
   "execution_count": 174,
   "metadata": {},
   "outputs": [],
   "source": [
    "import logging\n",
    "import grpc\n",
    "import pandas as pd\n",
    "import contest_pb2\n",
    "import contest_pb2_grpc\n",
    "import question_pb2\n",
    "import question_pb2_grpc\n",
    "import time\n",
    "import numpy"
   ]
  },
  {
   "cell_type": "code",
   "execution_count": 175,
   "metadata": {},
   "outputs": [],
   "source": [
    "question_channel=grpc.insecure_channel('47.103.23.116: 56701')\n",
    "i=0\n",
    "question_stub=question_pb2_grpc.QuestionStub(question_channel)\n",
    "question_response=question_stub.get_question(question_pb2.QuestionRequest(user_id=88,sequence=i))"
   ]
  },
  {
   "cell_type": "code",
   "execution_count": 176,
   "metadata": {},
   "outputs": [
    {
     "output_type": "stream",
     "name": "stdout",
     "text": [
      "122\n",
      "122\n",
      "122\n",
      "122\n",
      "122\n",
      "122\n",
      "123\n",
      "123\n",
      "123\n",
      "123\n",
      "123\n",
      "123\n",
      "123\n",
      "123\n",
      "123\n"
     ]
    },
    {
     "output_type": "error",
     "ename": "KeyboardInterrupt",
     "evalue": "",
     "traceback": [
      "\u001b[1;31m---------------------------------------------------------------------------\u001b[0m",
      "\u001b[1;31mKeyboardInterrupt\u001b[0m                         Traceback (most recent call last)",
      "\u001b[1;32m<ipython-input-176-ba11b83bef31>\u001b[0m in \u001b[0;36m<module>\u001b[1;34m\u001b[0m\n\u001b[0;32m      2\u001b[0m \u001b[0mdf\u001b[0m\u001b[1;33m=\u001b[0m\u001b[0mpd\u001b[0m\u001b[1;33m.\u001b[0m\u001b[0mDataFrame\u001b[0m\u001b[1;33m(\u001b[0m\u001b[0mcolumns\u001b[0m\u001b[1;33m=\u001b[0m\u001b[1;33m[\u001b[0m\u001b[1;34m'day'\u001b[0m\u001b[1;33m,\u001b[0m\u001b[1;34m'stock_id'\u001b[0m\u001b[1;33m,\u001b[0m\u001b[1;34m'open'\u001b[0m\u001b[1;33m,\u001b[0m\u001b[1;34m'high'\u001b[0m\u001b[1;33m,\u001b[0m\u001b[1;34m'low'\u001b[0m\u001b[1;33m,\u001b[0m\u001b[1;34m'close'\u001b[0m\u001b[1;33m,\u001b[0m\u001b[1;34m'volume'\u001b[0m\u001b[1;33m]\u001b[0m\u001b[1;33m)\u001b[0m\u001b[1;33m\u001b[0m\u001b[1;33m\u001b[0m\u001b[0m\n\u001b[0;32m      3\u001b[0m \u001b[1;32mwhile\u001b[0m \u001b[1;32mTrue\u001b[0m\u001b[1;33m:\u001b[0m\u001b[1;33m\u001b[0m\u001b[1;33m\u001b[0m\u001b[0m\n\u001b[1;32m----> 4\u001b[1;33m     \u001b[0mtime\u001b[0m\u001b[1;33m.\u001b[0m\u001b[0msleep\u001b[0m\u001b[1;33m(\u001b[0m\u001b[1;36m0.5\u001b[0m\u001b[1;33m)\u001b[0m\u001b[1;33m\u001b[0m\u001b[1;33m\u001b[0m\u001b[0m\n\u001b[0m\u001b[0;32m      5\u001b[0m     \u001b[0mquestion_response\u001b[0m\u001b[1;33m=\u001b[0m\u001b[0mquestion_stub\u001b[0m\u001b[1;33m.\u001b[0m\u001b[0mget_question\u001b[0m\u001b[1;33m(\u001b[0m\u001b[0mquestion_pb2\u001b[0m\u001b[1;33m.\u001b[0m\u001b[0mQuestionRequest\u001b[0m\u001b[1;33m(\u001b[0m\u001b[0muser_id\u001b[0m\u001b[1;33m=\u001b[0m\u001b[1;36m88\u001b[0m\u001b[1;33m)\u001b[0m\u001b[1;33m)\u001b[0m\u001b[1;33m\u001b[0m\u001b[1;33m\u001b[0m\u001b[0m\n\u001b[0;32m      6\u001b[0m     \u001b[0mprint\u001b[0m\u001b[1;33m(\u001b[0m\u001b[0mquestion_response\u001b[0m\u001b[1;33m.\u001b[0m\u001b[0msequence\u001b[0m\u001b[1;33m)\u001b[0m\u001b[1;33m\u001b[0m\u001b[1;33m\u001b[0m\u001b[0m\n",
      "\u001b[1;31mKeyboardInterrupt\u001b[0m: "
     ]
    }
   ],
   "source": [
    "i=0\n",
    "df=pd.DataFrame(columns=['day','stock_id','open','high','low','close','volume'])\n",
    "while True:\n",
    "    time.sleep(0.5)\n",
    "    question_response=question_stub.get_question(question_pb2.QuestionRequest(user_id=88,sequence=i))\n",
    "    print(question_response.sequence)\n",
    "    if question_response.sequence!=-1:\n",
    "        df=df.append(pd.DataFrame([question_response.dailystk[0].values],columns=['day','stock_id','open','high','low','close','volume']))\n",
    "\n",
    "        i=question_response.sequence+1\n",
    "question_channel.close()"
   ]
  },
  {
   "cell_type": "code",
   "execution_count": 177,
   "metadata": {},
   "outputs": [],
   "source": [
    "question_channel.close()"
   ]
  },
  {
   "cell_type": "code",
   "execution_count": 173,
   "metadata": {},
   "outputs": [
    {
     "output_type": "execute_result",
     "data": {
      "text/plain": [
       "     day  stock_id      open      high       low     close    volume\n",
       "0  697.0    1000.0  27.53256  28.12062  27.53256  28.12062  157472.0\n",
       "0  698.0    1000.0  27.70878  27.70878  27.36426  27.40650   35248.0\n",
       "0  699.0    1000.0  27.33456  27.33456  27.23820  27.27582   36432.0\n",
       "0  700.0    1000.0  27.20850  27.20850  26.78016  26.96892    3008.0\n",
       "0  701.0    1000.0  26.93988  27.23820  26.93988  26.95242   38656.0"
      ],
      "text/html": "<div>\n<style scoped>\n    .dataframe tbody tr th:only-of-type {\n        vertical-align: middle;\n    }\n\n    .dataframe tbody tr th {\n        vertical-align: top;\n    }\n\n    .dataframe thead th {\n        text-align: right;\n    }\n</style>\n<table border=\"1\" class=\"dataframe\">\n  <thead>\n    <tr style=\"text-align: right;\">\n      <th></th>\n      <th>day</th>\n      <th>stock_id</th>\n      <th>open</th>\n      <th>high</th>\n      <th>low</th>\n      <th>close</th>\n      <th>volume</th>\n    </tr>\n  </thead>\n  <tbody>\n    <tr>\n      <th>0</th>\n      <td>697.0</td>\n      <td>1000.0</td>\n      <td>27.53256</td>\n      <td>28.12062</td>\n      <td>27.53256</td>\n      <td>28.12062</td>\n      <td>157472.0</td>\n    </tr>\n    <tr>\n      <th>0</th>\n      <td>698.0</td>\n      <td>1000.0</td>\n      <td>27.70878</td>\n      <td>27.70878</td>\n      <td>27.36426</td>\n      <td>27.40650</td>\n      <td>35248.0</td>\n    </tr>\n    <tr>\n      <th>0</th>\n      <td>699.0</td>\n      <td>1000.0</td>\n      <td>27.33456</td>\n      <td>27.33456</td>\n      <td>27.23820</td>\n      <td>27.27582</td>\n      <td>36432.0</td>\n    </tr>\n    <tr>\n      <th>0</th>\n      <td>700.0</td>\n      <td>1000.0</td>\n      <td>27.20850</td>\n      <td>27.20850</td>\n      <td>26.78016</td>\n      <td>26.96892</td>\n      <td>3008.0</td>\n    </tr>\n    <tr>\n      <th>0</th>\n      <td>701.0</td>\n      <td>1000.0</td>\n      <td>26.93988</td>\n      <td>27.23820</td>\n      <td>26.93988</td>\n      <td>26.95242</td>\n      <td>38656.0</td>\n    </tr>\n  </tbody>\n</table>\n</div>"
     },
     "metadata": {},
     "execution_count": 173
    }
   ],
   "source": [
    "df"
   ]
  },
  {
   "cell_type": "code",
   "execution_count": null,
   "metadata": {},
   "outputs": [],
   "source": []
  }
 ]
}